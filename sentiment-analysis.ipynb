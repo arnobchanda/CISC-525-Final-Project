{
 "cells": [
  {
   "cell_type": "code",
   "execution_count": 2,
   "metadata": {},
   "outputs": [],
   "source": [
    "import pandas as pd"
   ]
  },
  {
   "cell_type": "code",
   "execution_count": 4,
   "metadata": {},
   "outputs": [
    {
     "name": "stdout",
     "output_type": "stream",
     "text": [
      "                     user_name               user_location  \\\n",
      "0                       ᏉᎥ☻լꂅϮ                  astroworld   \n",
      "1                Tom Basile 🇺🇸                New York, NY   \n",
      "2              Time4fisticuffs            Pewee Valley, KY   \n",
      "3                  ethel mertz        Stuck in the Middle    \n",
      "4                     DIPR-J&K           Jammu and Kashmir   \n",
      "...                        ...                         ...   \n",
      "179103  AJIMATI AbdulRahman O.             Ilorin, Nigeria   \n",
      "179104                   Jason                     Ontario   \n",
      "179105             BEEHEMOTH ⏳                   🇨🇦 Canada   \n",
      "179106           Gary DelPonte               New York City   \n",
      "179107                 TUKY II  Aliwal North, South Africa   \n",
      "\n",
      "                                         user_description  \\\n",
      "0       wednesday addams as a disney princess keepin i...   \n",
      "1       Husband, Father, Columnist & Commentator. Auth...   \n",
      "2       #Christian #Catholic #Conservative #Reagan #Re...   \n",
      "3       #Browns #Indians #ClevelandProud #[]_[] #Cavs ...   \n",
      "4       🖊️Official Twitter handle of Department of Inf...   \n",
      "...                                                   ...   \n",
      "179103    Animal Scientist|| Muslim|| Real Madrid/Chelsea   \n",
      "179104  When your cat has more baking soda than Ninja ...   \n",
      "179105  ⚒️ The Architects of Free Trade ⚒️ Really Did ...   \n",
      "179106  Global UX UI Visual Designer. StoryTeller, Mus...   \n",
      "179107  TOKELO SEKHOPA | TUKY II | LAST BORN | EISH TU...   \n",
      "\n",
      "               user_created  user_followers  user_friends  user_favourites  \\\n",
      "0       2017-05-26 05:46:42             624           950            18775   \n",
      "1       2009-04-16 20:06:23            2253          1677               24   \n",
      "2       2009-02-28 18:57:41            9275          9525             7254   \n",
      "3       2019-03-07 01:45:06             197           987             1488   \n",
      "4       2017-02-12 06:45:15          101009           168              101   \n",
      "...                     ...             ...           ...              ...   \n",
      "179103  2013-12-30 18:59:19             412          1609             1062   \n",
      "179104  2011-12-21 04:41:30             150           182             7295   \n",
      "179105  2016-07-13 17:21:59            1623          2160            98000   \n",
      "179106  2009-10-27 17:43:13            1338          1111                0   \n",
      "179107  2018-04-14 17:30:07              97          1697              566   \n",
      "\n",
      "        user_verified                 date  \\\n",
      "0               False  2020-07-25 12:27:21   \n",
      "1                True  2020-07-25 12:27:17   \n",
      "2               False  2020-07-25 12:27:14   \n",
      "3               False  2020-07-25 12:27:10   \n",
      "4               False  2020-07-25 12:27:08   \n",
      "...               ...                  ...   \n",
      "179103          False  2020-08-29 19:44:21   \n",
      "179104          False  2020-08-29 19:44:16   \n",
      "179105          False  2020-08-29 19:44:15   \n",
      "179106          False  2020-08-29 19:44:14   \n",
      "179107          False  2020-08-29 19:44:08   \n",
      "\n",
      "                                                     text  \\\n",
      "0       If I smelled the scent of hand sanitizers toda...   \n",
      "1       Hey @Yankees @YankeesPR and @MLB - wouldn't it...   \n",
      "2       @diane3443 @wdunlap @realDonaldTrump Trump nev...   \n",
      "3       @brookbanktv The one gift #COVID19 has give me...   \n",
      "4       25 July : Media Bulletin on Novel #CoronaVirus...   \n",
      "...                                                   ...   \n",
      "179103  Thanks @IamOhmai for nominating me for the @WH...   \n",
      "179104  2020! The year of insanity! Lol! #COVID19 http...   \n",
      "179105  @CTVNews A powerful painting by Juan Lucena. I...   \n",
      "179106  More than 1,200 students test positive for #CO...   \n",
      "179107  I stop when I see a Stop\\n\\n@SABCNews\\n@Izinda...   \n",
      "\n",
      "                                 hashtags               source  is_retweet  \n",
      "0                                     NaN   Twitter for iPhone       False  \n",
      "1                                     NaN  Twitter for Android       False  \n",
      "2                             ['COVID19']  Twitter for Android       False  \n",
      "3                             ['COVID19']   Twitter for iPhone       False  \n",
      "4       ['CoronaVirusUpdates', 'COVID19']  Twitter for Android       False  \n",
      "...                                   ...                  ...         ...  \n",
      "179103                      ['WearAMask']  Twitter for Android       False  \n",
      "179104                        ['COVID19']  Twitter for Android       False  \n",
      "179105                                NaN      Twitter Web App       False  \n",
      "179106                        ['COVID19']   Twitter for iPhone       False  \n",
      "179107                                NaN  Twitter for Android       False  \n",
      "\n",
      "[179108 rows x 13 columns]\n"
     ]
    }
   ],
   "source": [
    "df = pd.read_csv(\"covid19_tweets.csv\")\n",
    "print(df)"
   ]
  },
  {
   "cell_type": "code",
   "execution_count": null,
   "metadata": {},
   "outputs": [],
   "source": []
  }
 ],
 "metadata": {
  "kernelspec": {
   "display_name": "Python 3",
   "language": "python",
   "name": "python3"
  },
  "language_info": {
   "codemirror_mode": {
    "name": "ipython",
    "version": 3
   },
   "file_extension": ".py",
   "mimetype": "text/x-python",
   "name": "python",
   "nbconvert_exporter": "python",
   "pygments_lexer": "ipython3",
   "version": "3.9.13"
  },
  "orig_nbformat": 4,
  "vscode": {
   "interpreter": {
    "hash": "fd35ebaa337ade82225583d7f7be59dba59e5e1762b342a4f35025f11fa84284"
   }
  }
 },
 "nbformat": 4,
 "nbformat_minor": 2
}
