{
 "cells": [
  {
   "cell_type": "code",
   "execution_count": 37,
   "id": "f8faebb7",
   "metadata": {},
   "outputs": [],
   "source": [
    "from pyspark.sql import SparkSession\n",
    "import os\n",
    "import numpy as np"
   ]
  },
  {
   "cell_type": "code",
   "execution_count": 38,
   "id": "3bbc2020",
   "metadata": {},
   "outputs": [],
   "source": [
    "spark = SparkSession.builder.appName('DataProcessing.com').getOrCreate()"
   ]
  },
  {
   "cell_type": "code",
   "execution_count": 39,
   "id": "8bf987ff",
   "metadata": {},
   "outputs": [
    {
     "data": {
      "text/plain": [
       "'/Users/archanasrisubramanian/code/ArchanasriHarrisburgAssignments/CISC525/CISC-525-Final-Project'"
      ]
     },
     "execution_count": 39,
     "metadata": {},
     "output_type": "execute_result"
    }
   ],
   "source": [
    "os.getcwd()"
   ]
  },
  {
   "cell_type": "code",
   "execution_count": 40,
   "id": "98ebb8c4",
   "metadata": {},
   "outputs": [
    {
     "name": "stderr",
     "output_type": "stream",
     "text": [
      "                                                                                \r"
     ]
    }
   ],
   "source": [
    "df = spark.read.csv(\"covid19_tweets.csv\", header=True, inferSchema=True)"
   ]
  },
  {
   "cell_type": "code",
   "execution_count": 41,
   "id": "1606b521",
   "metadata": {},
   "outputs": [
    {
     "name": "stdout",
     "output_type": "stream",
     "text": [
      "+--------------------+--------------------+--------------------+-------------------+--------------+------------+-------------------+--------------------+-------------------+--------------------+--------------------+-------------------+----------+\n",
      "|           user_name|       user_location|    user_description|       user_created|user_followers|user_friends|    user_favourites|       user_verified|               date|                text|            hashtags|             source|is_retweet|\n",
      "+--------------------+--------------------+--------------------+-------------------+--------------+------------+-------------------+--------------------+-------------------+--------------------+--------------------+-------------------+----------+\n",
      "|             ᏉᎥ☻լꂅϮ|          astroworld|wednesday addams ...|2017-05-26 05:46:42|           624|         950|              18775|               False|2020-07-25 12:27:21|If I smelled the ...|                null| Twitter for iPhone|     False|\n",
      "|     Tom Basile 🇺🇸|        New York, NY|Husband, Father, ...|2009-04-16 20:06:23|          2253|        1677|                 24|                True|2020-07-25 12:27:17|Hey @Yankees @Yan...|                null|Twitter for Android|     False|\n",
      "|     Time4fisticuffs|    Pewee Valley, KY|#Christian #Catho...|2009-02-28 18:57:41|          9275|        9525|               7254|               False|2020-07-25 12:27:14|@diane3443 @wdunl...|         ['COVID19']|Twitter for Android|     False|\n",
      "|         ethel mertz|Stuck in the Middle |#Browns #Indians ...|2019-03-07 01:45:06|           197|         987|               1488|               False|2020-07-25 12:27:10|@brookbanktv The ...|         ['COVID19']| Twitter for iPhone|     False|\n",
      "|            DIPR-J&K|   Jammu and Kashmir|🖊️Official Twitt...|2017-02-12 06:45:15|        101009|         168|                101|               False|2020-07-25 12:27:08|25 July : Media B...|                null|               null|      null|\n",
      "|@kansalrohit69 @D...|['CoronaVirusUpda...| Twitter for Android|              False|          null|        null|               null|                null|               null|                null|                null|               null|      null|\n",
      "|   🎹 Franz Schubert|         Новоро́ссия|🎼  #Новоро́ссия ...|2018-03-19 16:29:52|          1180|        1071|               1287|               False|2020-07-25 12:27:06|#coronavirus #cov...|['coronavirus', '...|    Twitter Web App|     False|\n",
      "|        hr bartender|     Gainesville, FL|Workplace tips an...|2008-08-12 18:19:49|         79956|       54810|               3801|               False|2020-07-25 12:27:03|How #COVID19 Will...|['COVID19', 'Recr...|             Buffer|     False|\n",
      "|      Derbyshire LPC|                null|                null|2012-02-03 18:08:10|           608|         355|                 95|               False|2020-07-25 12:27:00|You now have to w...|                null|          TweetDeck|     False|\n",
      "|   Prathamesh Bendre|                null|A poet, reiki pra...|2015-04-25 08:15:41|            25|          29|                 18|               False|2020-07-25 12:26:59|Praying for good ...|                null|               null|      null|\n",
      "|            #covid19|                null|                null|               null|          null|        null|               null|                null|               null|                null|                null|               null|      null|\n",
      "|     #covidPositive\"|['covid19', 'covi...| Twitter for Android|              False|          null|        null|               null|                null|               null|                null|                null|               null|      null|\n",
      "|Member of Christ ...|👇🏻location at l...|Just as the body ...|2014-08-17 04:53:22|         55201|       34239|              29802|               False|2020-07-25 12:26:54|POPE AS GOD - Pro...|                null|               null|      null|\n",
      "|#HurricaneHanna #...|['HurricaneHanna'...|  Twitter for iPhone|              False|          null|        null|               null|                null|               null|                null|                null|               null|      null|\n",
      "|Voice Of CBSE Stu...|                null|                null|2020-07-14 17:50:30|             8|          10|                  7|               False|2020-07-25 12:26:53|49K+ Covid19 case...|                null|               null|      null|\n",
      "|@cbseindia29 @HRD...|                null|     Twitter Web App|              False|          null|        null|               null|                null|               null|                null|                null|               null|      null|\n",
      "|         Creativegms|    Dhaka,Bangladesh|I'm Motalib Mia, ...|               null|          null|        null|               null|                null|               null|                null|                null|               null|      null|\n",
      "|motalibmas@gmail....| 2020-01-12 09:03:01|                 241|               1694|          8443|       False|2020-07-25 12:26:50|Order here: https...|               null|                null|                null|               null|      null|\n",
      "|#logo #graphicdes...|['logo', 'graphic...|     Twitter Web App|              False|          null|        null|               null|                null|               null|                null|                null|               null|      null|\n",
      "|          SEXXYLYPPS|Hotel living - va...|\"My ink \"\"My Way....|               null|          null|        null|               null|                null|               null|                null|                null|               null|      null|\n",
      "+--------------------+--------------------+--------------------+-------------------+--------------+------------+-------------------+--------------------+-------------------+--------------------+--------------------+-------------------+----------+\n",
      "only showing top 20 rows\n",
      "\n"
     ]
    }
   ],
   "source": [
    "df.show()"
   ]
  },
  {
   "cell_type": "code",
   "execution_count": 42,
   "id": "f1ce82d0",
   "metadata": {},
   "outputs": [
    {
     "name": "stdout",
     "output_type": "stream",
     "text": [
      "+--------------------+\n",
      "|                text|\n",
      "+--------------------+\n",
      "|If I smelled the ...|\n",
      "|Hey @Yankees @Yan...|\n",
      "|@diane3443 @wdunl...|\n",
      "|@brookbanktv The ...|\n",
      "|25 July : Media B...|\n",
      "|                null|\n",
      "|#coronavirus #cov...|\n",
      "|How #COVID19 Will...|\n",
      "|You now have to w...|\n",
      "|Praying for good ...|\n",
      "|                null|\n",
      "|                null|\n",
      "|POPE AS GOD - Pro...|\n",
      "|                null|\n",
      "|49K+ Covid19 case...|\n",
      "|                null|\n",
      "|                null|\n",
      "|                null|\n",
      "|                null|\n",
      "|                null|\n",
      "+--------------------+\n",
      "only showing top 20 rows\n",
      "\n"
     ]
    }
   ],
   "source": [
    "df.select(\"text\").show()"
   ]
  },
  {
   "cell_type": "code",
   "execution_count": 43,
   "id": "7a90b5a9",
   "metadata": {},
   "outputs": [],
   "source": [
    "'''Data cleaning: Remove unwanted characters, punctuation marks, URLs, and other noise from the text.'''\n",
    "from pyspark.sql.functions import regexp_replace\n",
    "\n",
    "clean_df = df.withColumn(\"text\", regexp_replace(df.text, r\"http\\S+\", \"\"))\n"
   ]
  },
  {
   "cell_type": "code",
   "execution_count": 44,
   "id": "1468fae7",
   "metadata": {},
   "outputs": [
    {
     "name": "stdout",
     "output_type": "stream",
     "text": [
      "+--------------------+\n",
      "|                text|\n",
      "+--------------------+\n",
      "|If I smelled the ...|\n",
      "|Hey @Yankees @Yan...|\n",
      "|@diane3443 @wdunl...|\n",
      "|@brookbanktv The ...|\n",
      "|25 July : Media B...|\n",
      "|                null|\n",
      "|#coronavirus #cov...|\n",
      "|How #COVID19 Will...|\n",
      "|You now have to w...|\n",
      "|Praying for good ...|\n",
      "|                null|\n",
      "|                null|\n",
      "|POPE AS GOD - Pro...|\n",
      "|                null|\n",
      "|49K+ Covid19 case...|\n",
      "|                null|\n",
      "|                null|\n",
      "|                null|\n",
      "|                null|\n",
      "|                null|\n",
      "+--------------------+\n",
      "only showing top 20 rows\n",
      "\n"
     ]
    }
   ],
   "source": [
    "clean_df.select(\"text\").show()"
   ]
  },
  {
   "cell_type": "code",
   "execution_count": 47,
   "id": "9b56e09e",
   "metadata": {},
   "outputs": [],
   "source": [
    "from pyspark.sql.functions import lower\n",
    "\n",
    "lower_df = clean_df.withColumn(\"text\", lower(clean_df.text))"
   ]
  },
  {
   "cell_type": "code",
   "execution_count": 49,
   "id": "e0b5c28f",
   "metadata": {},
   "outputs": [
    {
     "name": "stdout",
     "output_type": "stream",
     "text": [
      "+--------------------+\n",
      "|                text|\n",
      "+--------------------+\n",
      "|if i smelled the ...|\n",
      "|hey @yankees @yan...|\n",
      "|@diane3443 @wdunl...|\n",
      "|@brookbanktv the ...|\n",
      "|25 july : media b...|\n",
      "|                null|\n",
      "|#coronavirus #cov...|\n",
      "|how #covid19 will...|\n",
      "|you now have to w...|\n",
      "|praying for good ...|\n",
      "|                null|\n",
      "|                null|\n",
      "|pope as god - pro...|\n",
      "|                null|\n",
      "|49k+ covid19 case...|\n",
      "|                null|\n",
      "|                null|\n",
      "|                null|\n",
      "|                null|\n",
      "|                null|\n",
      "+--------------------+\n",
      "only showing top 20 rows\n",
      "\n"
     ]
    }
   ],
   "source": [
    "lower_df.select(\"text\").show()"
   ]
  },
  {
   "cell_type": "code",
   "execution_count": 50,
   "id": "f68bf4d4",
   "metadata": {},
   "outputs": [
    {
     "name": "stdout",
     "output_type": "stream",
     "text": [
      "+--------------------+\n",
      "|                text|\n",
      "+--------------------+\n",
      "|if i smelled the ...|\n",
      "|hey @yankees @yan...|\n",
      "|@diane @wdunlap @...|\n",
      "|@brookbanktv the ...|\n",
      "| july : media bul...|\n",
      "|                null|\n",
      "|#coronavirus #cov...|\n",
      "|how #covid will c...|\n",
      "|you now have to w...|\n",
      "|praying for good ...|\n",
      "|                null|\n",
      "|                null|\n",
      "|pope as god - pro...|\n",
      "|                null|\n",
      "|k+ covid cases st...|\n",
      "|                null|\n",
      "|                null|\n",
      "|                null|\n",
      "|                null|\n",
      "|                null|\n",
      "+--------------------+\n",
      "only showing top 20 rows\n",
      "\n"
     ]
    }
   ],
   "source": [
    "from pyspark.sql.functions import regexp_replace\n",
    "\n",
    "no_nums_df = lower_df.withColumn(\"text\", regexp_replace(lower_df.text, r\"\\d+\", \"\"))\n",
    "\n",
    "no_nums_df.select(\"text\").show()"
   ]
  },
  {
   "cell_type": "code",
   "execution_count": 51,
   "id": "f10871a6",
   "metadata": {},
   "outputs": [
    {
     "name": "stdout",
     "output_type": "stream",
     "text": [
      "+--------------------+\n",
      "|                text|\n",
      "+--------------------+\n",
      "|if i smelled the ...|\n",
      "|hey   and  - woul...|\n",
      "|   trump never on...|\n",
      "| the one gift  ha...|\n",
      "| july : media bul...|\n",
      "|                null|\n",
      "|  deaths continue...|\n",
      "|how  will change ...|\n",
      "|you now have to w...|\n",
      "|praying for good ...|\n",
      "|                null|\n",
      "|                null|\n",
      "|pope as god - pro...|\n",
      "|                null|\n",
      "|k+ covid cases st...|\n",
      "|                null|\n",
      "|                null|\n",
      "|                null|\n",
      "|                null|\n",
      "|                null|\n",
      "+--------------------+\n",
      "only showing top 20 rows\n",
      "\n"
     ]
    }
   ],
   "source": [
    "no_hashtags_df = no_nums_df.withColumn(\"text\", regexp_replace(no_nums_df.text, r\"#\\w+\", \"\"))\n",
    "no_mentions_df = no_hashtags_df.withColumn(\"text\", regexp_replace(no_hashtags_df.text, r\"@\\w+\", \"\"))\n",
    "no_mentions_df.select(\"text\").show()\n"
   ]
  },
  {
   "cell_type": "code",
   "execution_count": 54,
   "id": "82537c9e",
   "metadata": {},
   "outputs": [
    {
     "name": "stdout",
     "output_type": "stream",
     "text": [
      "+--------------------+\n",
      "|                text|\n",
      "+--------------------+\n",
      "|if i smelled the ...|\n",
      "|hey   and  - woul...|\n",
      "|   trump never on...|\n",
      "| the one gift  ha...|\n",
      "| july : media bul...|\n",
      "|  deaths continue...|\n",
      "|how  will change ...|\n",
      "|you now have to w...|\n",
      "|praying for good ...|\n",
      "|pope as god - pro...|\n",
      "|k+ covid cases st...|\n",
      "|     twitter web app|\n",
      "|let's all protect...|\n",
      "|rajasthan governm...|\n",
      "|       july   update|\n",
      "|second wave of  i...|\n",
      "|it is during our ...|\n",
      "|covid update: the...|\n",
      "|      good patriots!|\n",
      "|coronavirus - sou...|\n",
      "+--------------------+\n",
      "only showing top 20 rows\n",
      "\n"
     ]
    }
   ],
   "source": [
    "cleaned_df = no_mentions_df.dropna(subset=[\"text\"])\n",
    "cleaned_df.select(\"text\").show()\n"
   ]
  },
  {
   "cell_type": "code",
   "execution_count": 55,
   "id": "f5449b62",
   "metadata": {},
   "outputs": [],
   "source": [
    "no_punc_df = cleaned_df.withColumn(\"text\", regexp_replace(cleaned_df.text, r'[^\\w\\s]', ''))\n"
   ]
  },
  {
   "cell_type": "code",
   "execution_count": 56,
   "id": "2452f545",
   "metadata": {},
   "outputs": [
    {
     "name": "stdout",
     "output_type": "stream",
     "text": [
      "+--------------------+\n",
      "|                text|\n",
      "+--------------------+\n",
      "|if i smelled the ...|\n",
      "|hey   and   would...|\n",
      "|   trump never on...|\n",
      "| the one gift  ha...|\n",
      "| july  media bull...|\n",
      "|  deaths continue...|\n",
      "|how  will change ...|\n",
      "|you now have to w...|\n",
      "|praying for good ...|\n",
      "|pope as god  prop...|\n",
      "|k covid cases sti...|\n",
      "|     twitter web app|\n",
      "|lets all protect ...|\n",
      "|rajasthan governm...|\n",
      "|       july   update|\n",
      "|second wave of  i...|\n",
      "|it is during our ...|\n",
      "|covid update the ...|\n",
      "|       good patriots|\n",
      "|coronavirus  sout...|\n",
      "+--------------------+\n",
      "only showing top 20 rows\n",
      "\n"
     ]
    }
   ],
   "source": [
    "no_punc_df.select(\"text\").show()"
   ]
  },
  {
   "cell_type": "code",
   "execution_count": 57,
   "id": "c2e95f07",
   "metadata": {},
   "outputs": [
    {
     "name": "stdout",
     "output_type": "stream",
     "text": [
      "+--------------------+--------------------+\n",
      "|                text|               words|\n",
      "+--------------------+--------------------+\n",
      "|if i smelled the ...|[if, i, smelled, ...|\n",
      "|hey   and   would...|[hey, and, wouldn...|\n",
      "|   trump never on...|[, trump, never, ...|\n",
      "| the one gift  ha...|[, the, one, gift...|\n",
      "| july  media bull...|[, july, media, b...|\n",
      "|  deaths continue...|[, deaths, contin...|\n",
      "|how  will change ...|[how, will, chang...|\n",
      "|you now have to w...|[you, now, have, ...|\n",
      "|praying for good ...|[praying, for, go...|\n",
      "|pope as god  prop...|[pope, as, god, p...|\n",
      "|k covid cases sti...|[k, covid, cases,...|\n",
      "|     twitter web app| [twitter, web, app]|\n",
      "|lets all protect ...|[lets, all, prote...|\n",
      "|rajasthan governm...|[rajasthan, gover...|\n",
      "|       july   update|      [july, update]|\n",
      "|second wave of  i...|[second, wave, of...|\n",
      "|it is during our ...|[it, is, during, ...|\n",
      "|covid update the ...|[covid, update, t...|\n",
      "|       good patriots|  [, good, patriots]|\n",
      "|coronavirus  sout...|[coronavirus, sou...|\n",
      "+--------------------+--------------------+\n",
      "only showing top 20 rows\n",
      "\n"
     ]
    }
   ],
   "source": [
    "from pyspark.sql.functions import split\n",
    "\n",
    "tokenized_df = no_punc_df.withColumn(\"words\", split(no_punc_df.text, \"\\s+\"))\n",
    "tokenized_df.select(\"text\", \"words\").show()"
   ]
  },
  {
   "cell_type": "code",
   "execution_count": 63,
   "id": "ea0c6f93",
   "metadata": {},
   "outputs": [],
   "source": [
    "from pyspark.sql.functions import regexp_replace\n",
    "\n",
    "no_emoji_df = tokenized_df.withColumn(\"text\", regexp_replace(tokenized_df.text, u'[\\U0001F600-\\U0001F64F\\U0001F300-\\U0001F5FF\\U0001F680-\\U0001F6FF\\U0001F1E0-\\U0001F1FF\\U00002702-\\U000027B0\\U000024C2-\\U0001F251]+', ''))"
   ]
  },
  {
   "cell_type": "code",
   "execution_count": 66,
   "id": "b4207bc7",
   "metadata": {},
   "outputs": [
    {
     "name": "stdout",
     "output_type": "stream",
     "text": [
      "+--------------------+--------------------+--------------------+-------------------+--------------+------------+-------------------+--------------------+-------------------+--------------------+--------------------+-------------------+----------+--------------------+\n",
      "|           user_name|       user_location|    user_description|       user_created|user_followers|user_friends|    user_favourites|       user_verified|               date|                text|            hashtags|             source|is_retweet|               words|\n",
      "+--------------------+--------------------+--------------------+-------------------+--------------+------------+-------------------+--------------------+-------------------+--------------------+--------------------+-------------------+----------+--------------------+\n",
      "|             ᏉᎥ☻լꂅϮ|          astroworld|wednesday addams ...|2017-05-26 05:46:42|           624|         950|              18775|               False|2020-07-25 12:27:21|if i smelled the ...|                null| Twitter for iPhone|     False|[if, i, smelled, ...|\n",
      "|     Tom Basile 🇺🇸|        New York, NY|Husband, Father, ...|2009-04-16 20:06:23|          2253|        1677|                 24|                True|2020-07-25 12:27:17|hey   and   would...|                null|Twitter for Android|     False|[hey, and, wouldn...|\n",
      "|     Time4fisticuffs|    Pewee Valley, KY|#Christian #Catho...|2009-02-28 18:57:41|          9275|        9525|               7254|               False|2020-07-25 12:27:14|   trump never on...|         ['COVID19']|Twitter for Android|     False|[, trump, never, ...|\n",
      "|         ethel mertz|Stuck in the Middle |#Browns #Indians ...|2019-03-07 01:45:06|           197|         987|               1488|               False|2020-07-25 12:27:10| the one gift  ha...|         ['COVID19']| Twitter for iPhone|     False|[, the, one, gift...|\n",
      "|            DIPR-J&K|   Jammu and Kashmir|🖊️Official Twitt...|2017-02-12 06:45:15|        101009|         168|                101|               False|2020-07-25 12:27:08| july  media bull...|                null|               null|      null|[, july, media, b...|\n",
      "|   🎹 Franz Schubert|         Новоро́ссия|🎼  #Новоро́ссия ...|2018-03-19 16:29:52|          1180|        1071|               1287|               False|2020-07-25 12:27:06|  deaths continue...|['coronavirus', '...|    Twitter Web App|     False|[, deaths, contin...|\n",
      "|        hr bartender|     Gainesville, FL|Workplace tips an...|2008-08-12 18:19:49|         79956|       54810|               3801|               False|2020-07-25 12:27:03|how  will change ...|['COVID19', 'Recr...|             Buffer|     False|[how, will, chang...|\n",
      "|      Derbyshire LPC|                null|                null|2012-02-03 18:08:10|           608|         355|                 95|               False|2020-07-25 12:27:00|you now have to w...|                null|          TweetDeck|     False|[you, now, have, ...|\n",
      "|   Prathamesh Bendre|                null|A poet, reiki pra...|2015-04-25 08:15:41|            25|          29|                 18|               False|2020-07-25 12:26:59|praying for good ...|                null|               null|      null|[praying, for, go...|\n",
      "|Member of Christ ...|👇🏻location at l...|Just as the body ...|2014-08-17 04:53:22|         55201|       34239|              29802|               False|2020-07-25 12:26:54|pope as god  prop...|                null|               null|      null|[pope, as, god, p...|\n",
      "|Voice Of CBSE Stu...|                null|                null|2020-07-14 17:50:30|             8|          10|                  7|               False|2020-07-25 12:26:53|k covid cases sti...|                null|               null|      null|[k, covid, cases,...|\n",
      "|Always Make Happi...| 2010-03-25 21:16:20|                   0|                  8|            32|       False|2020-07-25 12:26:47|👋🏻@PattyHajdu @...|        ['COVID19']|     twitter web app|               False|               null|      null| [twitter, web, app]|\n",
      "|Africa Youth Advi...|              Africa|Official account ...|2019-05-13 06:27:47|           830|         254|               3692|               False|2020-07-25 12:26:47|lets all protect ...|                null|               null|      null|[lets, all, prote...|\n",
      "|      DailyaddaaNews|           New Delhi|Breaking news ale...|2016-10-22 09:18:42|           546|          29|                 88|               False|2020-07-25 12:26:46|rajasthan governm...|                null|    Twitter Web App|     False|[rajasthan, gover...|\n",
      "|      ChennaiCityNow|                null|Individual tweeti...|2009-04-26 09:38:11|          3987|          53|                749|               False|2020-07-25 12:26:44|       july   update|                null|               null|      null|      [july, update]|\n",
      "|marc goovaerts🇪?...|            Brussels|Progressive mind....|2009-06-13 13:48:16|           283|        1432|               1546|               False|2020-07-25 12:26:44|second wave of  i...|['COVID19', 'home...|Twitter for Android|     False|[second, wave, of...|\n",
      "|          Dorian Aur|                null|                null|2011-01-30 18:40:16|            46|         108|                453|               False|2020-07-25 12:26:43|it is during our ...|                null|               null|      null|[it, is, during, ...|\n",
      "|     Coronavirus Law|        Florida, USA|COVID-19 Practice...|2019-12-03 19:00:11|            14|          24|                 74|               False|2020-07-25 12:26:39|covid update the ...|                null|   Twitter for iPad|     False|[covid, update, t...|\n",
      "|   The Voice of GenX|                null|                null|2011-05-28 15:28:21|           292|        1037|                 58|               False|2020-07-25 12:26:37|       good patriots|                null|               null|      null|  [, good, patriots]|\n",
      "|   APO Group English|       #AFRICA #MENA|Latest #Africa & ...|2011-02-22 09:09:45|         10661|           6|               2037|                True|2020-07-25 12:26:31|coronavirus  sout...|                null|    Africa Newsroom|     False|[coronavirus, sou...|\n",
      "+--------------------+--------------------+--------------------+-------------------+--------------+------------+-------------------+--------------------+-------------------+--------------------+--------------------+-------------------+----------+--------------------+\n",
      "only showing top 20 rows\n",
      "\n"
     ]
    }
   ],
   "source": [
    "no_emoji_df.show()"
   ]
  },
  {
   "cell_type": "code",
   "execution_count": 69,
   "id": "e66620ae",
   "metadata": {},
   "outputs": [
    {
     "name": "stderr",
     "output_type": "stream",
     "text": [
      "                                                                                \r"
     ]
    }
   ],
   "source": [
    "output_file_path = \"covid_19_clean.csv\"\n",
    "final_df = no_emoji_df.drop(\"words\")\n",
    "\n",
    "# Write the DataFrame to the CSV file\n",
    "final_df.write.format(\"csv\").option(\"header\", \"true\").mode(\"overwrite\").save(output_file_path)"
   ]
  },
  {
   "cell_type": "code",
   "execution_count": null,
   "id": "dabe58cd",
   "metadata": {},
   "outputs": [],
   "source": []
  }
 ],
 "metadata": {
  "kernelspec": {
   "display_name": "Python 3 (ipykernel)",
   "language": "python",
   "name": "python3"
  },
  "language_info": {
   "codemirror_mode": {
    "name": "ipython",
    "version": 3
   },
   "file_extension": ".py",
   "mimetype": "text/x-python",
   "name": "python",
   "nbconvert_exporter": "python",
   "pygments_lexer": "ipython3",
   "version": "3.11.2"
  },
  "toc": {
   "base_numbering": 1,
   "nav_menu": {},
   "number_sections": true,
   "sideBar": true,
   "skip_h1_title": false,
   "title_cell": "Table of Contents",
   "title_sidebar": "Contents",
   "toc_cell": false,
   "toc_position": {},
   "toc_section_display": true,
   "toc_window_display": false
  }
 },
 "nbformat": 4,
 "nbformat_minor": 5
}
